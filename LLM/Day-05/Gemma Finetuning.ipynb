{
 "cells": [
  {
   "cell_type": "markdown",
   "metadata": {},
   "source": [
    "# Gemman Finetuning with LoRA and QLoRA\n",
    "- LoRA : Low Rank Adaptation\n",
    "- QLoRA : Quantized Low Rank Adaptation"
   ]
  },
  {
   "cell_type": "code",
   "execution_count": null,
   "metadata": {},
   "outputs": [],
   "source": []
  }
 ],
 "metadata": {
  "language_info": {
   "name": "python"
  }
 },
 "nbformat": 4,
 "nbformat_minor": 2
}
